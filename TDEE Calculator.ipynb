{
 "cells": [
  {
   "cell_type": "markdown",
   "metadata": {},
   "source": [
    "<h1>TDEE Calculator</h1>\n",
    "<h6>Author: Ronald Rounsifer</h6>\n",
    "<p>This program is designed to compute a persons Total Daily Exercise Expenditure (TDEE) by utilizing the Harris Benedict Equation with a few modifications, in which it uses the gender, age, height, weight, and activity level of the person. The result of the TDEE is the amount of k/cal that the person must eat per day to maintain their current weight.</p>\n",
    "\n",
    "<p>When entering your information, use the number that is next to your activity level below:</p>\n",
    "<ol>\n",
    "    <li><strong>Sendentary</strong> - Little or no exercise / desk job</li>\n",
    "    <li><strong>Lightly Active</strong> - Light exericise / sports 1-3 days per week</li>\n",
    "    <li><strong>Moderately Active</strong> - Moderate Exercise / sports 3-5 days per week</li>\n",
    "    <li><strong>Very Active</strong> - Heavy exercise / sports 6-7 days per week</li>\n",
    "    <li><strong>Extremely Active</strong> - Very heavy exercise / physical job / training 2 times a day</li>\n",
    "</ol>\n",
    "<p>Now do the same for your fitness goals:</p>\n",
    "<ol>\n",
    "    <li><strong>Lean bulk</strong></li>\n",
    "    <li><strong>Dirty bulk</strong></li>\n",
    "    <li><strong>Maintain</strong></li>\n",
    "    <li><strong>Cut</strong></li>\n",
    "</ol>\n",
    "\n",
    "<p>The following parameters are needed in order to correctly calculate your TDEE:</p>\n",
    "<ul>\n",
    "    <li><strong>Gender</strong> - male/female</li>\n",
    "    <li><strong>Age</strong> - in years</li>\n",
    "    <li><strong>Height</strong> - in inches</li>\n",
    "    <li><strong>Weight</strong> - in pounds</li>\n",
    "    <li><strong>Activity Level</strong> - from list above</li>\n",
    "    <li><strong>Fitness Goal</strong> - from list above</li>\n",
    "</ul>\n",
    "<p>NOTICE: IF NO FITNESS GOAL IS ENTERED THEN ONLY THE BMR WILL BE CALCULATED</p>"
   ]
  },
  {
   "cell_type": "code",
   "execution_count": 3,
   "metadata": {},
   "outputs": [],
   "source": [
    "import math\n",
    "\n",
    "def tdee_calculator(gender, age, height, weight, activity_level, goal):\n",
    "    tdee = 0\n",
    "    multiplier = 0\n",
    "    height = height \n",
    "    weight = weight\n",
    "    type_of_goal =\"\"\n",
    "    \n",
    "    if activity_level == 1:\n",
    "        multiplier = 1.2\n",
    "    elif activity_level == 2:\n",
    "        multiplier = 1.375\n",
    "    elif activity_level == 3:\n",
    "        multiplier = 1.55\n",
    "    elif activity_level == 4:\n",
    "        multiplier = 1.725\n",
    "    elif activity_level == 5:\n",
    "        multiplier = 1.9\n",
    "    else:\n",
    "        print (\"Please choose an activity level.\")\n",
    "        \n",
    "    if gender == \"female\":\n",
    "        tdee = (655 + (4.35*weight) + (4.7*height) - (4.7*age))*multiplier\n",
    "    elif gender == \"male\":\n",
    "        tdee = (66 + (6.23*weight) + (12.7*height) - (6.8*age))*multiplier\n",
    "    \n",
    "    print(str(math.ceil(tdee)) + \" k/cal\")\n",
    "    \n",
    "    if goal != \"\":\n",
    "        proteins = 0\n",
    "        fats = 0\n",
    "        carbs = 0\n",
    "        if goal == 1:\n",
    "            type_of_goal = \"lean bulking\"\n",
    "            proteins = weight + 25\n",
    "            fats = 75\n",
    "            carbs = weight * 1.75\n",
    "        if goal == 2:\n",
    "            type_of_goal = \"dirty bulking\"\n",
    "            proteins = weight + 35\n",
    "            fats = 100\n",
    "            carbs = weight *1.85\n",
    "        if goal == 3:\n",
    "            type_of_goal = \"maintaining weight\"\n",
    "            proteins = weight + 25\n",
    "            fats = 75\n",
    "            carbs = weight*1.25\n",
    "        if goal == 4:\n",
    "            type_of_goal = \"cutting weight\"\n",
    "            proteins = weight + 25\n",
    "            fats = 50\n",
    "            carbs = (weight / 10)*10\n",
    "        print(\"Since you chose %s as your goal, follow these macros while maintaining a daily carb-cycle:\" % type_of_goal)\n",
    "        print(\"Protein - %d (+/- 10)\" % proteins)\n",
    "        print(\"Fats - %d (+/- 25)\" % fats)\n",
    "        print(\"Carbs - %d (+/- 20)\" % carbs)\n",
    "    \n",
    "        "
   ]
  },
  {
   "cell_type": "code",
   "execution_count": 4,
   "metadata": {},
   "outputs": [
    {
     "name": "stdout",
     "output_type": "stream",
     "text": [
      "2006 k/cal\n",
      "Since you chose cutting weight as your goal, follow these macros while maintaining a daily carb-cycle:\n",
      "Protein - 201 (+/- 10)\n",
      "Fats - 50 (+/- 25)\n",
      "Carbs - 176 (+/- 20)\n"
     ]
    }
   ],
   "source": [
    "tdee_calculator(\"female\", 56, 64, 176, 2, 4)"
   ]
  },
  {
   "cell_type": "markdown",
   "metadata": {},
   "source": [
    "<h1> TO DO: </h1>\n",
    "    <p><input type=\"checkbox\"> Set up tests for arguments to make sure they match the correct data type</input></p>"
   ]
  }
 ],
 "metadata": {
  "kernelspec": {
   "display_name": "Python 3",
   "language": "python",
   "name": "python3"
  },
  "language_info": {
   "codemirror_mode": {
    "name": "ipython",
    "version": 3
   },
   "file_extension": ".py",
   "mimetype": "text/x-python",
   "name": "python",
   "nbconvert_exporter": "python",
   "pygments_lexer": "ipython3",
   "version": "3.6.1"
  }
 },
 "nbformat": 4,
 "nbformat_minor": 1
}
